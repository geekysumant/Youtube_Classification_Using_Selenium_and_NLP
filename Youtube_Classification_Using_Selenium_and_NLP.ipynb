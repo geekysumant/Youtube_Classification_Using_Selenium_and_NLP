{
 "cells": [
  {
   "cell_type": "code",
   "execution_count": 3,
   "metadata": {},
   "outputs": [
    {
     "name": "stdout",
     "output_type": "stream",
     "text": [
      "Collecting selenium\n",
      "  Using cached selenium-3.141.0-py2.py3-none-any.whl (904 kB)\n",
      "Requirement already satisfied: urllib3 in /Users/sumant/anaconda3/lib/python3.7/site-packages (from selenium) (1.25.8)\n",
      "Installing collected packages: selenium\n",
      "Successfully installed selenium-3.141.0\n",
      "Note: you may need to restart the kernel to use updated packages.\n"
     ]
    }
   ],
   "source": [
    "pip install selenium"
   ]
  },
  {
   "cell_type": "code",
   "execution_count": 3,
   "metadata": {},
   "outputs": [],
   "source": [
    "from selenium import webdriver \n",
    "import pandas as pd \n",
    "from selenium.webdriver.common.by import By \n",
    "from selenium.webdriver.support.ui import WebDriverWait \n",
    "from selenium.webdriver.support import expected_conditions as EC"
   ]
  },
  {
   "cell_type": "code",
   "execution_count": 4,
   "metadata": {},
   "outputs": [],
   "source": [
    "categories=[\n",
    "    \"Travel\",\n",
    "    \"Sports\",\n",
    "    \"Food\",\n",
    "    \"History\",\n",
    "    \"Manufacturing\",\n",
    "    \"Art\",\n",
    "]"
   ]
  },
  {
   "cell_type": "code",
   "execution_count": 6,
   "metadata": {},
   "outputs": [
    {
     "name": "stdout",
     "output_type": "stream",
     "text": [
      "Travel https://www.youtube.com/watch?v=HR3naDzbfgI\n",
      "Travel https://www.youtube.com/watch?v=x8UKy0d66zs\n",
      "Travel https://www.youtube.com/watch?v=ersdbKSKvA8\n",
      "Travel https://www.youtube.com/watch?v=asQ46o_24eI\n",
      "Travel https://www.youtube.com/watch?v=VElW8XrBz84\n",
      "Travel https://www.youtube.com/watch?v=ODuEl4oNae0\n",
      "Travel https://www.youtube.com/watch?v=0GZSfBuhf6Y\n",
      "Travel https://www.youtube.com/watch?v=ehmsJLZlCZ0\n",
      "Travel https://www.youtube.com/watch?v=kJS9ViONCRc\n",
      "Travel https://www.youtube.com/watch?v=81lBOvN6G9c\n",
      "Travel https://www.youtube.com/watch?v=W6eEGFLNR5E\n",
      "Travel https://www.youtube.com/watch?v=Qmi-Xwq-MEc\n",
      "Travel https://www.youtube.com/watch?v=9X63yvorFhU\n",
      "Travel https://www.youtube.com/watch?v=IgAnj6r1O48\n",
      "Travel https://www.youtube.com/watch?v=Om2__4PuHyc\n",
      "Travel https://www.youtube.com/watch?v=VYYIDlRhIr0\n",
      "Travel https://www.youtube.com/watch?v=SkTvdPpGCXw\n",
      "Travel https://www.youtube.com/watch?v=yZG6Ep0EixE\n",
      "Travel https://www.youtube.com/watch?v=Zq6P4dGm3j4\n",
      "Travel https://www.youtube.com/watch?v=vNQR3ixE8AE\n",
      "Sports https://www.youtube.com/watch?v=jHHNa41EGUE\n",
      "Sports https://www.youtube.com/watch?v=dwV04XuiWq4\n",
      "Sports https://www.youtube.com/watch?v=o7W7OvETO40\n",
      "Sports https://www.youtube.com/watch?v=P0lzqyT9fb4\n",
      "Sports https://www.youtube.com/watch?v=Hm3HeqwPfQU\n",
      "Sports https://www.youtube.com/watch?v=kE7D7qFayVg\n",
      "Sports https://www.youtube.com/watch?v=xHQp-SxcNww\n",
      "Sports https://www.youtube.com/watch?v=kT6XARGAvL0\n",
      "Sports https://www.youtube.com/watch?v=6J_A281XvZU\n",
      "Sports https://www.youtube.com/watch?v=luR70V5gdS0\n",
      "Sports https://www.youtube.com/watch?v=XYX-IZa3rNs\n",
      "Sports https://www.youtube.com/watch?v=_lyAEL4Wqao\n",
      "Sports https://www.youtube.com/watch?v=S9QUWwMvcTM\n",
      "Sports https://www.youtube.com/watch?v=MFWji8MM4jo\n",
      "Sports https://www.youtube.com/watch?v=-RmUADCWI4A\n",
      "Sports https://www.youtube.com/watch?v=WOaTJodYLCQ\n",
      "Sports https://www.youtube.com/watch?v=9Ffm_X-ppFo\n",
      "Sports https://www.youtube.com/watch?v=_XFzT9GMmw8\n",
      "Sports https://www.youtube.com/watch?v=ic640alXKmM\n",
      "Food https://www.youtube.com/watch?v=0SPwwpruGIA\n",
      "Food https://www.youtube.com/watch?v=cUJZ79XyFgw\n",
      "Food https://www.youtube.com/watch?v=S0JXO6qaWBM\n",
      "Food https://www.youtube.com/watch?v=kZLS0Ip0VYc\n",
      "Food https://www.youtube.com/watch?v=lhaya7ChQPo\n",
      "Food https://www.youtube.com/watch?v=cS9Mj-fusi8\n",
      "Food https://www.youtube.com/watch?v=xFGIzlxnsb8\n",
      "Food https://www.youtube.com/watch?v=EHGqESRkesc\n",
      "Food https://www.youtube.com/watch?v=-lkCsKXAxfo\n",
      "Food https://www.youtube.com/watch?v=jh3rjzQSeQ0\n",
      "Food https://www.youtube.com/watch?v=X_QWiSp6h8k\n",
      "Food https://www.youtube.com/watch?v=VhixjFmRLt0\n",
      "Food https://www.youtube.com/watch?v=mrcKZDVWTLs\n",
      "Food https://www.youtube.com/watch?v=_4aS5vXNLVw\n",
      "Food https://www.youtube.com/watch?v=Xe4knzPEsrQ\n",
      "Food https://www.youtube.com/watch?v=4vO7oq9nqzY\n",
      "Food https://www.youtube.com/watch?v=LAsnbgOoGzo\n",
      "Food https://www.youtube.com/watch?v=Lhn32f7ymcA\n",
      "Food https://www.youtube.com/watch?v=Wxdj970RM7M\n",
      "Food https://www.youtube.com/watch?v=EBeQOJ_5anE\n",
      "History https://www.youtube.com/watch?v=R1Pmcy74Kfs\n",
      "History https://www.youtube.com/watch?v=WltJPKFo_J4\n",
      "History https://www.youtube.com/watch?v=YITgrT-zRTU\n",
      "History https://www.youtube.com/watch?v=P2VdJLV7AUg\n",
      "History https://www.youtube.com/watch?v=qQqnWeRqie4\n",
      "History https://www.youtube.com/watch?v=6vaWug73kDs\n",
      "History https://www.youtube.com/watch?v=yjmp8CoZBIo\n",
      "History https://www.youtube.com/watch?v=a2a4oR0ZUYE\n",
      "History https://www.youtube.com/watch?v=LvSRU_DlJDM\n",
      "History https://www.youtube.com/watch?v=PSnxA5HREgc\n",
      "History https://www.youtube.com/watch?v=ALeQBJkhwA8\n",
      "History https://www.youtube.com/watch?v=dH2ZAesgvxY\n",
      "History https://www.youtube.com/watch?v=0b8yr2SEA8E\n",
      "History https://www.youtube.com/watch?v=C7QQNF4MfhY\n",
      "History https://www.youtube.com/watch?v=FeJKJ5MoCHY\n",
      "History https://www.youtube.com/watch?v=CWB8_qCmrXE\n",
      "History https://www.youtube.com/watch?v=nLX_u3OPA4w\n",
      "History https://www.youtube.com/watch?v=qqZ5Zw1Y66E\n",
      "Manufacturing https://www.youtube.com/watch?v=Y8GT6Wv9mQE\n",
      "Manufacturing https://www.youtube.com/watch?v=hxh8LdkoAcQ\n",
      "Manufacturing https://www.youtube.com/watch?v=SFomXXXYMXw\n",
      "Manufacturing https://www.youtube.com/watch?v=vrQrsCpCCS4\n",
      "Manufacturing https://www.youtube.com/watch?v=uuN6zU3ePG0\n",
      "Manufacturing https://www.youtube.com/watch?v=YeMHOhTUYnk\n",
      "Manufacturing https://www.youtube.com/watch?v=xAv4qKrKvII\n",
      "Manufacturing https://www.youtube.com/watch?v=uej5A0ia-LU\n",
      "Manufacturing https://www.youtube.com/watch?v=BDJ1rEl-NV4\n",
      "Manufacturing https://www.youtube.com/watch?v=mGgJvCwqJ3I\n",
      "Manufacturing https://www.youtube.com/watch?v=oVG_zkqNPr8\n",
      "Manufacturing https://www.youtube.com/watch?v=9Eq4C9ch-vk\n",
      "Manufacturing https://www.youtube.com/watch?v=xOq0YVeF8f4\n",
      "Manufacturing https://www.youtube.com/watch?v=cAqy7JDk5dQ\n",
      "Manufacturing https://www.youtube.com/watch?v=pBEUx4X6_Q4\n",
      "Manufacturing https://www.youtube.com/watch?v=ZZewPtbh_g8\n",
      "Manufacturing https://www.youtube.com/watch?v=yjqIfsB3eHc\n",
      "Manufacturing https://www.youtube.com/watch?v=TFQjzZlGpz8\n",
      "Manufacturing https://www.youtube.com/watch?v=0DZTWCfyV2A\n",
      "Manufacturing https://www.youtube.com/watch?v=RihyvJcsxo0\n",
      "Art https://www.youtube.com/watch?v=xaMALSMWPqw\n",
      "Art https://www.youtube.com/watch?v=0Yv3ol-srjo\n",
      "Art https://www.youtube.com/watch?v=uXtjUsv7hTM\n",
      "Art https://www.youtube.com/watch?v=58tDxXB_1TY\n",
      "Art https://www.youtube.com/watch?v=8P55AjTuXBc\n",
      "Art https://www.youtube.com/watch?v=tYwQkCbmLqE\n",
      "Art https://www.youtube.com/watch?v=K2ZIF3jeXQA\n",
      "Art https://www.youtube.com/watch?v=f9N2uvplISE\n",
      "Art https://www.youtube.com/watch?v=FZqhQEF-69Y\n",
      "Art https://www.youtube.com/watch?v=EdcVedEA77o\n",
      "Art https://www.youtube.com/watch?v=usOId-BR8vM\n",
      "Art https://www.youtube.com/watch?v=76jpCIZTq2E\n",
      "Art https://www.youtube.com/watch?v=mgqtbfKG8Do\n",
      "Art https://www.youtube.com/watch?v=6WlU5CS3_Ow\n",
      "Art https://www.youtube.com/watch?v=nylVuvDc7cI\n",
      "Art https://www.youtube.com/watch?v=1g15uUPoGAE\n",
      "Art https://www.youtube.com/watch?v=kTOgz1sK6PE\n",
      "Art https://www.youtube.com/watch?v=F62JVEHv80Q\n",
      "Art https://www.youtube.com/watch?v=qOz9vHDV-C0\n",
      "Art https://www.youtube.com/watch?v=a51CdTB2snA\n"
     ]
    }
   ],
   "source": [
    "#getting videos from each categories\n",
    "df = pd.DataFrame(columns = ['link', 'title', 'description', 'category'])\n",
    "\n",
    "for categ in categories:\n",
    "    driver=webdriver.Chrome()\n",
    "    \n",
    "    link=\"https://www.youtube.com/results?search_query=\"+categ+\"&sp=EgIQAQ%253D%253D\"\n",
    "    driver.get(link)\n",
    "    user_data=driver.find_elements_by_xpath('//*[@id=\"video-title\"]')\n",
    "    links=[]\n",
    "    for i in user_data:\n",
    "        links.append(i.get_attribute('href'))\n",
    "    wait = WebDriverWait(driver, 20)\n",
    "    video_category=categ\n",
    "    for link in links:\n",
    "        print(categ,link)\n",
    "        if(link==None):\n",
    "            continue;\n",
    "        driver.get(link)\n",
    "        video_id=link.strip('https://www.youtube.com/watch?v=')\n",
    "        video_title=wait.until(EC.presence_of_element_located((By.CSS_SELECTOR,\"h1.title yt-formatted-string\"))).text\n",
    "        video_desc=wait.until(EC.presence_of_element_located((By.CSS_SELECTOR,\"div#description yt-formatted-string\"))).text\n",
    "        df.loc[len(df)] = [video_id, video_title, video_desc, video_category]\n",
    "    driver.close()\n",
    "        \n",
    "        "
   ]
  },
  {
   "cell_type": "code",
   "execution_count": 10,
   "metadata": {},
   "outputs": [
    {
     "data": {
      "text/html": [
       "<div>\n",
       "<style scoped>\n",
       "    .dataframe tbody tr th:only-of-type {\n",
       "        vertical-align: middle;\n",
       "    }\n",
       "\n",
       "    .dataframe tbody tr th {\n",
       "        vertical-align: top;\n",
       "    }\n",
       "\n",
       "    .dataframe thead th {\n",
       "        text-align: right;\n",
       "    }\n",
       "</style>\n",
       "<table border=\"1\" class=\"dataframe\">\n",
       "  <thead>\n",
       "    <tr style=\"text-align: right;\">\n",
       "      <th></th>\n",
       "      <th>link</th>\n",
       "      <th>title</th>\n",
       "      <th>description</th>\n",
       "      <th>category</th>\n",
       "    </tr>\n",
       "  </thead>\n",
       "  <tbody>\n",
       "    <tr>\n",
       "      <th>0</th>\n",
       "      <td>HR3naDzbfgI</td>\n",
       "      <td>Chitrakoot Tourist Places | Chitrakoot Tour Pl...</td>\n",
       "      <td>In this video you will know how to travel chit...</td>\n",
       "      <td>Travel</td>\n",
       "    </tr>\n",
       "    <tr>\n",
       "      <th>1</th>\n",
       "      <td>x8UKy0d66z</td>\n",
       "      <td>Travel To Tokyo Capital of Japan | Tokyo, Japa...</td>\n",
       "      <td>#JaniTV          #Tokyo        #Documentary   ...</td>\n",
       "      <td>Travel</td>\n",
       "    </tr>\n",
       "    <tr>\n",
       "      <th>2</th>\n",
       "      <td>rsdbKSKvA8</td>\n",
       "      <td>Ek Canadian Motorhome Park Ke Kharche Fayde Au...</td>\n",
       "      <td>Join My channel to support financially get acc...</td>\n",
       "      <td>Travel</td>\n",
       "    </tr>\n",
       "    <tr>\n",
       "      <th>3</th>\n",
       "      <td>Q46o_24eI</td>\n",
       "      <td>BEST BASKETBALL VINES 2020 (TRAVEL??)</td>\n",
       "      <td>Get your SportzCases here! - https://bit.ly/2T...</td>\n",
       "      <td>Travel</td>\n",
       "    </tr>\n",
       "    <tr>\n",
       "      <th>4</th>\n",
       "      <td>VElW8XrBz84</td>\n",
       "      <td>Kerala Travel | Kerala Tour Package | Complete...</td>\n",
       "      <td>Music : Youtube Audio Library\\n\\nKerala Travel...</td>\n",
       "      <td>Travel</td>\n",
       "    </tr>\n",
       "  </tbody>\n",
       "</table>\n",
       "</div>"
      ],
      "text/plain": [
       "          link                                              title  \\\n",
       "0  HR3naDzbfgI  Chitrakoot Tourist Places | Chitrakoot Tour Pl...   \n",
       "1   x8UKy0d66z  Travel To Tokyo Capital of Japan | Tokyo, Japa...   \n",
       "2   rsdbKSKvA8  Ek Canadian Motorhome Park Ke Kharche Fayde Au...   \n",
       "3    Q46o_24eI              BEST BASKETBALL VINES 2020 (TRAVEL??)   \n",
       "4  VElW8XrBz84  Kerala Travel | Kerala Tour Package | Complete...   \n",
       "\n",
       "                                         description category  \n",
       "0  In this video you will know how to travel chit...   Travel  \n",
       "1  #JaniTV          #Tokyo        #Documentary   ...   Travel  \n",
       "2  Join My channel to support financially get acc...   Travel  \n",
       "3  Get your SportzCases here! - https://bit.ly/2T...   Travel  \n",
       "4  Music : Youtube Audio Library\\n\\nKerala Travel...   Travel  "
      ]
     },
     "execution_count": 10,
     "metadata": {},
     "output_type": "execute_result"
    }
   ],
   "source": [
    "df.head()"
   ]
  },
  {
   "cell_type": "code",
   "execution_count": 11,
   "metadata": {},
   "outputs": [],
   "source": [
    "df_copy=df"
   ]
  },
  {
   "cell_type": "code",
   "execution_count": 12,
   "metadata": {},
   "outputs": [],
   "source": [
    "df_link = pd.DataFrame(columns = [\"link\"])        \n",
    "df_title = pd.DataFrame(columns = [\"title\"])        \n",
    "df_description = pd.DataFrame(columns = [\"description\"])        \n",
    "df_category = pd.DataFrame(columns = [\"category\"])        \n",
    "df_link['link'] = df_copy['link'] \n",
    "df_title [\"title\"]= df_copy['title'] \n",
    "df_description[\"description\"] = df_copy['description'] \n",
    "df_category[\"category\"] = df_copy['category']"
   ]
  },
  {
   "cell_type": "code",
   "execution_count": 13,
   "metadata": {},
   "outputs": [
    {
     "name": "stderr",
     "output_type": "stream",
     "text": [
      "[nltk_data] Downloading package stopwords to\n",
      "[nltk_data]     /Users/sumant/nltk_data...\n",
      "[nltk_data]   Package stopwords is already up-to-date!\n"
     ]
    }
   ],
   "source": [
    "import re \n",
    "import nltk \n",
    "nltk.download('stopwords') \n",
    "from nltk.corpus import stopwords \n",
    "from nltk.stem.porter import PorterStemmer"
   ]
  },
  {
   "cell_type": "code",
   "execution_count": 15,
   "metadata": {},
   "outputs": [],
   "source": [
    "corpus = []        \n",
    "for i in range(0, 117):         \n",
    "  review = re.sub('[^a-zA-Z]', ' ', df_title['title'][i])            \n",
    "  review = review.lower()            \n",
    "  review = review.split()            \n",
    "  ps = PorterStemmer()            \n",
    "  review = [ps.stem(word) for word in review if not word in set(stopwords.words('english'))]            \n",
    "  review = ' '.join(review)            \n",
    "  corpus.append(review)"
   ]
  },
  {
   "cell_type": "code",
   "execution_count": 17,
   "metadata": {},
   "outputs": [],
   "source": [
    "\n",
    "corpus1 = [] \n",
    "for i in range(0, 117):            \n",
    "  review = re.sub('[^a-zA-Z]', ' ', df_description['description'][i])            \n",
    "  review = review.lower()            \n",
    "  review = review.split()            \n",
    "  ps = PorterStemmer()            \n",
    "  review = [ps.stem(word) for word in review if not word in set(stopwords.words('english'))]            \n",
    "  review = ' '.join(review)            \n",
    "  corpus1.append(review)"
   ]
  },
  {
   "cell_type": "code",
   "execution_count": 18,
   "metadata": {},
   "outputs": [],
   "source": [
    "dftitle = pd.DataFrame({'title':corpus})\n",
    "dfdescription = pd.DataFrame({'description':corpus1})"
   ]
  },
  {
   "cell_type": "code",
   "execution_count": 19,
   "metadata": {},
   "outputs": [],
   "source": [
    "from sklearn.preprocessing import LabelEncoder\n",
    "dfcategory = df_category.apply(LabelEncoder().fit_transform)"
   ]
  },
  {
   "cell_type": "code",
   "execution_count": 21,
   "metadata": {},
   "outputs": [],
   "source": [
    "df_new = pd.concat([df_link, dftitle, dfdescription, dfcategory], axis=1)"
   ]
  },
  {
   "cell_type": "code",
   "execution_count": 23,
   "metadata": {},
   "outputs": [
    {
     "data": {
      "text/html": [
       "<div>\n",
       "<style scoped>\n",
       "    .dataframe tbody tr th:only-of-type {\n",
       "        vertical-align: middle;\n",
       "    }\n",
       "\n",
       "    .dataframe tbody tr th {\n",
       "        vertical-align: top;\n",
       "    }\n",
       "\n",
       "    .dataframe thead th {\n",
       "        text-align: right;\n",
       "    }\n",
       "</style>\n",
       "<table border=\"1\" class=\"dataframe\">\n",
       "  <thead>\n",
       "    <tr style=\"text-align: right;\">\n",
       "      <th></th>\n",
       "      <th>link</th>\n",
       "      <th>title</th>\n",
       "      <th>description</th>\n",
       "      <th>category</th>\n",
       "    </tr>\n",
       "  </thead>\n",
       "  <tbody>\n",
       "    <tr>\n",
       "      <th>0</th>\n",
       "      <td>HR3naDzbfgI</td>\n",
       "      <td>chitrakoot tourist place chitrakoot tour plan ...</td>\n",
       "      <td>video know travel chitrakoot reach chitrakoot ...</td>\n",
       "      <td>5</td>\n",
       "    </tr>\n",
       "    <tr>\n",
       "      <th>1</th>\n",
       "      <td>x8UKy0d66z</td>\n",
       "      <td>travel tokyo capit japan tokyo japan busiest c...</td>\n",
       "      <td>janitv tokyo documentari travel tokyo capit ja...</td>\n",
       "      <td>5</td>\n",
       "    </tr>\n",
       "    <tr>\n",
       "      <th>2</th>\n",
       "      <td>rsdbKSKvA8</td>\n",
       "      <td>ek canadian motorhom park ke kharch fayd aur n...</td>\n",
       "      <td>join channel support financi get access perk h...</td>\n",
       "      <td>5</td>\n",
       "    </tr>\n",
       "    <tr>\n",
       "      <th>3</th>\n",
       "      <td>Q46o_24eI</td>\n",
       "      <td>best basketbal vine travel</td>\n",
       "      <td>get sportzcas http bit ly tjjo promo code blac...</td>\n",
       "      <td>5</td>\n",
       "    </tr>\n",
       "    <tr>\n",
       "      <th>4</th>\n",
       "      <td>VElW8XrBz84</td>\n",
       "      <td>kerala travel kerala tour packag complet keral...</td>\n",
       "      <td>music youtub audio librari kerala travel keral...</td>\n",
       "      <td>5</td>\n",
       "    </tr>\n",
       "  </tbody>\n",
       "</table>\n",
       "</div>"
      ],
      "text/plain": [
       "          link                                              title  \\\n",
       "0  HR3naDzbfgI  chitrakoot tourist place chitrakoot tour plan ...   \n",
       "1   x8UKy0d66z  travel tokyo capit japan tokyo japan busiest c...   \n",
       "2   rsdbKSKvA8  ek canadian motorhom park ke kharch fayd aur n...   \n",
       "3    Q46o_24eI                         best basketbal vine travel   \n",
       "4  VElW8XrBz84  kerala travel kerala tour packag complet keral...   \n",
       "\n",
       "                                         description  category  \n",
       "0  video know travel chitrakoot reach chitrakoot ...         5  \n",
       "1  janitv tokyo documentari travel tokyo capit ja...         5  \n",
       "2  join channel support financi get access perk h...         5  \n",
       "3  get sportzcas http bit ly tjjo promo code blac...         5  \n",
       "4  music youtub audio librari kerala travel keral...         5  "
      ]
     },
     "execution_count": 23,
     "metadata": {},
     "output_type": "execute_result"
    }
   ],
   "source": [
    "df_new.head()"
   ]
  },
  {
   "cell_type": "code",
   "execution_count": 24,
   "metadata": {},
   "outputs": [],
   "source": [
    "from sklearn.feature_extraction.text import CountVectorizer   \n",
    "cv = CountVectorizer(max_features = 1500) \n",
    "X = cv.fit_transform(corpus, corpus1).toarray() \n",
    "y = df_new.iloc[:, 3].values"
   ]
  },
  {
   "cell_type": "code",
   "execution_count": 25,
   "metadata": {},
   "outputs": [],
   "source": [
    "from sklearn.model_selection import train_test_split\n",
    "X_train, X_test, y_train, y_test = train_test_split(X, y, test_size = 0.20, random_state = 0)"
   ]
  },
  {
   "cell_type": "code",
   "execution_count": 26,
   "metadata": {},
   "outputs": [
    {
     "data": {
      "text/plain": [
       "RandomForestClassifier(bootstrap=True, ccp_alpha=0.0, class_weight=None,\n",
       "                       criterion='entropy', max_depth=None, max_features='auto',\n",
       "                       max_leaf_nodes=None, max_samples=None,\n",
       "                       min_impurity_decrease=0.0, min_impurity_split=None,\n",
       "                       min_samples_leaf=1, min_samples_split=2,\n",
       "                       min_weight_fraction_leaf=0.0, n_estimators=1000,\n",
       "                       n_jobs=None, oob_score=False, random_state=None,\n",
       "                       verbose=0, warm_start=False)"
      ]
     },
     "execution_count": 26,
     "metadata": {},
     "output_type": "execute_result"
    }
   ],
   "source": [
    "from sklearn.ensemble import RandomForestClassifier\n",
    "classifier = RandomForestClassifier(n_estimators = 1000, criterion = 'entropy')\n",
    "classifier.fit(X_train, y_train)"
   ]
  },
  {
   "cell_type": "code",
   "execution_count": 27,
   "metadata": {},
   "outputs": [
    {
     "data": {
      "text/plain": [
       "0.7083333333333334"
      ]
     },
     "execution_count": 27,
     "metadata": {},
     "output_type": "execute_result"
    }
   ],
   "source": [
    "y_pred = classifier.predict(X_test)\n",
    "classifier.score(X_test, y_test)"
   ]
  },
  {
   "cell_type": "code",
   "execution_count": 29,
   "metadata": {},
   "outputs": [],
   "source": [
    "from sklearn.metrics import classification_report"
   ]
  },
  {
   "cell_type": "code",
   "execution_count": 30,
   "metadata": {},
   "outputs": [
    {
     "name": "stdout",
     "output_type": "stream",
     "text": [
      "              precision    recall  f1-score   support\n",
      "\n",
      "           0       1.00      0.75      0.86         4\n",
      "           1       1.00      1.00      1.00         2\n",
      "           2       1.00      0.80      0.89         5\n",
      "           3       1.00      0.40      0.57         5\n",
      "           4       0.30      1.00      0.46         3\n",
      "           5       1.00      0.60      0.75         5\n",
      "\n",
      "    accuracy                           0.71        24\n",
      "   macro avg       0.88      0.76      0.75        24\n",
      "weighted avg       0.91      0.71      0.74        24\n",
      "\n"
     ]
    }
   ],
   "source": [
    "print(classification_report(y_test, y_pred))"
   ]
  },
  {
   "cell_type": "code",
   "execution_count": null,
   "metadata": {},
   "outputs": [],
   "source": []
  }
 ],
 "metadata": {
  "kernelspec": {
   "display_name": "Python 3",
   "language": "python",
   "name": "python3"
  },
  "language_info": {
   "codemirror_mode": {
    "name": "ipython",
    "version": 3
   },
   "file_extension": ".py",
   "mimetype": "text/x-python",
   "name": "python",
   "nbconvert_exporter": "python",
   "pygments_lexer": "ipython3",
   "version": "3.7.4"
  }
 },
 "nbformat": 4,
 "nbformat_minor": 4
}
